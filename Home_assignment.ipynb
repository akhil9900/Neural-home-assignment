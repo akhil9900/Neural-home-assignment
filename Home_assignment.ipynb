{
  "nbformat": 4,
  "nbformat_minor": 0,
  "metadata": {
    "colab": {
      "provenance": [],
      "authorship_tag": "ABX9TyMKN1U/v7KHT5osfGdX/3TN",
      "include_colab_link": true
    },
    "kernelspec": {
      "name": "python3",
      "display_name": "Python 3"
    },
    "language_info": {
      "name": "python"
    }
  },
  "cells": [
    {
      "cell_type": "markdown",
      "metadata": {
        "id": "view-in-github",
        "colab_type": "text"
      },
      "source": [
        "<a href=\"https://colab.research.google.com/github/akhil9900/Neural-home-assignment/blob/main/Home_assignment.ipynb\" target=\"_parent\"><img src=\"https://colab.research.google.com/assets/colab-badge.svg\" alt=\"Open In Colab\"/></a>"
      ]
    },
    {
      "cell_type": "code",
      "execution_count": 1,
      "metadata": {
        "colab": {
          "base_uri": "https://localhost:8080/"
        },
        "id": "frQcNOgY6GEn",
        "outputId": "c844e969-177a-4654-f0a6-0e3d2b207ce0"
      },
      "outputs": [
        {
          "output_type": "stream",
          "name": "stdout",
          "text": [
            "Original Tensor:\n",
            " [[-0.41265026  0.61565226 -1.4117347   1.2336942  -1.7147396   0.7868933 ]\n",
            " [ 0.211484   -0.30360088 -0.74310327 -0.17419045 -0.78158516 -0.6762304 ]\n",
            " [-0.22346322  0.2795035  -0.11544304  2.3529894  -0.8124218  -1.1854414 ]\n",
            " [-0.14136273  1.1291637   2.0777056  -0.35473165 -0.8221894   0.22259957]]\n",
            "\n",
            "Rank of the tensor: 2\n",
            "Shape of the tensor: [4 6]\n",
            "\n",
            "Reshaped Tensor (2, 3, 4):\n",
            " [[[-0.41265026  0.61565226 -1.4117347   1.2336942 ]\n",
            "  [-1.7147396   0.7868933   0.211484   -0.30360088]\n",
            "  [-0.74310327 -0.17419045 -0.78158516 -0.6762304 ]]\n",
            "\n",
            " [[-0.22346322  0.2795035  -0.11544304  2.3529894 ]\n",
            "  [-0.8124218  -1.1854414  -0.14136273  1.1291637 ]\n",
            "  [ 2.0777056  -0.35473165 -0.8221894   0.22259957]]]\n",
            "Transposed Tensor (3, 2, 4):\n",
            " [[[-0.41265026  0.61565226 -1.4117347   1.2336942 ]\n",
            "  [-0.22346322  0.2795035  -0.11544304  2.3529894 ]]\n",
            "\n",
            " [[-1.7147396   0.7868933   0.211484   -0.30360088]\n",
            "  [-0.8124218  -1.1854414  -0.14136273  1.1291637 ]]\n",
            "\n",
            " [[-0.74310327 -0.17419045 -0.78158516 -0.6762304 ]\n",
            "  [ 2.0777056  -0.35473165 -0.8221894   0.22259957]]]\n",
            "\n",
            "Small Tensor:\n",
            " [[1. 2. 3. 4.]]\n",
            "Broadcasted Tensor:\n",
            " [[[1. 2. 3. 4.]\n",
            "  [1. 2. 3. 4.]]\n",
            "\n",
            " [[1. 2. 3. 4.]\n",
            "  [1. 2. 3. 4.]]\n",
            "\n",
            " [[1. 2. 3. 4.]\n",
            "  [1. 2. 3. 4.]]]\n",
            "Result Tensor (after addition):\n",
            " [[[ 0.5873498   2.6156523   1.5882653   5.233694  ]\n",
            "  [ 0.77653676  2.2795036   2.884557    6.352989  ]]\n",
            "\n",
            " [[-0.71473956  2.7868934   3.211484    3.6963992 ]\n",
            "  [ 0.1875782   0.8145586   2.8586373   5.1291637 ]]\n",
            "\n",
            " [[ 0.25689673  1.8258096   2.2184148   3.3237696 ]\n",
            "  [ 3.0777056   1.6452683   2.1778107   4.2225995 ]]]\n",
            "\n"
          ]
        }
      ],
      "source": [
        "#Tensor Manipulations & reshaping\n",
        "\n",
        "import tensorflow as tf\n",
        "import numpy as np\n",
        "\n",
        "# 1. Create a random tensor of shape (4, 6)\n",
        "tensor = tf.random.normal(shape=(4, 6))\n",
        "print(\"Original Tensor:\\n\", tensor.numpy())\n",
        "print()\n",
        "\n",
        "# 2. Find its rank and shape\n",
        "rank = tf.rank(tensor)\n",
        "shape = tf.shape(tensor)\n",
        "print(\"Rank of the tensor:\", rank.numpy())\n",
        "print(\"Shape of the tensor:\", shape.numpy())\n",
        "print()\n",
        "\n",
        "# 3. Reshape it into (2, 3, 4) and transpose it to (3, 2, 4)\n",
        "reshaped_tensor = tf.reshape(tensor, (2, 3, 4))\n",
        "transposed_tensor = tf.transpose(reshaped_tensor, perm=[1, 0, 2])\n",
        "print(\"Reshaped Tensor (2, 3, 4):\\n\", reshaped_tensor.numpy())\n",
        "print(\"Transposed Tensor (3, 2, 4):\\n\", transposed_tensor.numpy())\n",
        "print()\n",
        "\n",
        "# 4. Broadcast a smaller tensor (1, 4) to match the larger tensor and add them\n",
        "small_tensor = tf.constant([[1.0, 2.0, 3.0, 4.0]])  # Shape (1, 4)\n",
        "broadcasted_tensor = tf.broadcast_to(small_tensor, transposed_tensor.shape)\n",
        "result_tensor = transposed_tensor + broadcasted_tensor\n",
        "print(\"Small Tensor:\\n\", small_tensor.numpy())\n",
        "print(\"Broadcasted Tensor:\\n\", broadcasted_tensor.numpy())\n",
        "print(\"Result Tensor (after addition):\\n\", result_tensor.numpy())\n",
        "print()\n",
        "\n"
      ]
    },
    {
      "cell_type": "code",
      "source": [
        "#Loss functions and Hyperparameter Tuning\n",
        "\n",
        "import tensorflow as tf\n",
        "import matplotlib.pyplot as plt\n",
        "\n",
        "# 1. Define true values (y_true) and model predictions (y_pred)\n",
        "y_true = tf.constant([1.0, 0.0, 1.0, 0.0])\n",
        "y_pred = tf.constant([0.9, 0.1, 0.8, 0.2])\n",
        "\n",
        "# 2. Compute Mean Squared Error (MSE) and Categorical Cross-Entropy (CCE) losses\n",
        "mse_loss = tf.keras.losses.MeanSquaredError()\n",
        "cce_loss = tf.keras.losses.BinaryCrossentropy()\n",
        "\n",
        "mse_value = mse_loss(y_true, y_pred)\n",
        "cce_value = cce_loss(y_true, y_pred)\n",
        "\n",
        "print(\"MSE Loss:\", mse_value.numpy())\n",
        "print(\"CCE Loss:\", cce_value.numpy())\n",
        "\n",
        "# 3. Modify predictions slightly and check how loss values change\n",
        "y_pred_modified = tf.constant([0.85, 0.15, 0.75, 0.25])\n",
        "mse_value_modified = mse_loss(y_true, y_pred_modified)\n",
        "cce_value_modified = cce_loss(y_true, y_pred_modified)\n",
        "\n",
        "print(\"Modified MSE Loss:\", mse_value_modified.numpy())\n",
        "print(\"Modified CCE Loss:\", cce_value_modified.numpy())\n",
        "\n",
        "# 4. Plot loss function values using Matplotlib\n",
        "losses = [mse_value.numpy(), cce_value.numpy(), mse_value_modified.numpy(), cce_value_modified.numpy()]\n",
        "labels = ['MSE', 'CCE', 'Modified MSE', 'Modified CCE']\n",
        "\n",
        "plt.bar(labels, losses, color=['blue', 'orange', 'green', 'red'])\n",
        "plt.title('Comparison of Loss Functions')\n",
        "plt.ylabel('Loss Value')\n",
        "plt.show()"
      ],
      "metadata": {
        "colab": {
          "base_uri": "https://localhost:8080/",
          "height": 526
        },
        "id": "jP4KKAP170dR",
        "outputId": "0715d7ab-c392-482a-b173-4c4855b68c1e"
      },
      "execution_count": 2,
      "outputs": [
        {
          "output_type": "stream",
          "name": "stdout",
          "text": [
            "MSE Loss: 0.025000002\n",
            "CCE Loss: 0.16425204\n",
            "Modified MSE Loss: 0.042499997\n",
            "Modified CCE Loss: 0.22510049\n"
          ]
        },
        {
          "output_type": "display_data",
          "data": {
            "text/plain": [
              "<Figure size 640x480 with 1 Axes>"
            ],
            "image/png": "[encoded data removed]"
          },
          "metadata": {}
        }
      ]
    },
    {
      "cell_type": "code",
      "source": [
        "#Train a model with different Optimizers.\n",
        "\n",
        "import tensorflow as tf\n",
        "from tensorflow.keras import layers, models\n",
        "import matplotlib.pyplot as plt\n",
        "\n",
        "# 1. Load the MNIST dataset\n",
        "mnist = tf.keras.datasets.mnist\n",
        "(x_train, y_train), (x_test, y_test) = mnist.load_data()\n",
        "x_train, x_test = x_train / 255.0, x_test / 255.0\n",
        "\n",
        "# 2. Define a simple model\n",
        "def create_model():\n",
        "    model = models.Sequential([\n",
        "        layers.Flatten(input_shape=(28, 28)),\n",
        "        layers.Dense(128, activation='relu'),\n",
        "        layers.Dense(10, activation='softmax')\n",
        "    ])\n",
        "    return model\n",
        "\n",
        "# 3. Train with Adam optimizer\n",
        "model_adam = create_model()\n",
        "model_adam.compile(optimizer='adam', loss='sparse_categorical_crossentropy', metrics=['accuracy'])\n",
        "history_adam = model_adam.fit(x_train, y_train, epochs=5, validation_data=(x_test, y_test))\n",
        "\n",
        "# 4. Train with SGD optimizer\n",
        "model_sgd = create_model()\n",
        "model_sgd.compile(optimizer='sgd', loss='sparse_categorical_crossentropy', metrics=['accuracy'])\n",
        "history_sgd = model_sgd.fit(x_train, y_train, epochs=5, validation_data=(x_test, y_test))\n",
        "\n",
        "# 5. Plot accuracy trends\n",
        "plt.plot(history_adam.history['val_accuracy'], label='Adam')\n",
        "plt.plot(history_sgd.history['val_accuracy'], label='SGD')\n",
        "plt.title('Validation Accuracy: Adam vs. SGD')\n",
        "plt.xlabel('Epochs')\n",
        "plt.ylabel('Accuracy')\n",
        "plt.legend()\n",
        "plt.show()"
      ],
      "metadata": {
        "colab": {
          "base_uri": "https://localhost:8080/",
          "height": 935
        },
        "id": "6R3itpba8LnY",
        "outputId": "a31f246d-aeac-415b-8ebe-fe0d180a8e3d"
      },
      "execution_count": 3,
      "outputs": [
        {
          "output_type": "stream",
          "name": "stdout",
          "text": [
            "Downloading data from https://storage.googleapis.com/tensorflow/tf-keras-datasets/mnist.npz\n",
            "\u001b[1m11490434/11490434\u001b[0m \u001b[32m━━━━━━━━━━━━━━━━━━━━\u001b[0m\u001b[37m\u001b[0m \u001b[1m0s\u001b[0m 0us/step\n"
          ]
        },
        {
          "output_type": "stream",
          "name": "stderr",
          "text": [
            "/usr/local/lib/python3.11/dist-packages/keras/src/layers/reshaping/flatten.py:37: UserWarning: Do not pass an `input_shape`/`input_dim` argument to a layer. When using Sequential models, prefer using an `Input(shape)` object as the first layer in the model instead.\n",
            "  super().__init__(**kwargs)\n"
          ]
        },
        {
          "output_type": "stream",
          "name": "stdout",
          "text": [
            "Epoch 1/5\n",
            "\u001b[1m1875/1875\u001b[0m \u001b[32m━━━━━━━━━━━━━━━━━━━━\u001b[0m\u001b[37m\u001b[0m \u001b[1m8s\u001b[0m 4ms/step - accuracy: 0.8780 - loss: 0.4278 - val_accuracy: 0.9605 - val_loss: 0.1357\n",
            "Epoch 2/5\n",
            "\u001b[1m1875/1875\u001b[0m \u001b[32m━━━━━━━━━━━━━━━━━━━━\u001b[0m\u001b[37m\u001b[0m \u001b[1m9s\u001b[0m 3ms/step - accuracy: 0.9649 - loss: 0.1162 - val_accuracy: 0.9687 - val_loss: 0.1024\n",
            "Epoch 3/5\n",
            "\u001b[1m1875/1875\u001b[0m \u001b[32m━━━━━━━━━━━━━━━━━━━━\u001b[0m\u001b[37m\u001b[0m \u001b[1m10s\u001b[0m 3ms/step - accuracy: 0.9765 - loss: 0.0778 - val_accuracy: 0.9736 - val_loss: 0.0804\n",
            "Epoch 4/5\n",
            "\u001b[1m1875/1875\u001b[0m \u001b[32m━━━━━━━━━━━━━━━━━━━━\u001b[0m\u001b[37m\u001b[0m \u001b[1m7s\u001b[0m 4ms/step - accuracy: 0.9837 - loss: 0.0548 - val_accuracy: 0.9749 - val_loss: 0.0796\n",
            "Epoch 5/5\n",
            "\u001b[1m1875/1875\u001b[0m \u001b[32m━━━━━━━━━━━━━━━━━━━━\u001b[0m\u001b[37m\u001b[0m \u001b[1m6s\u001b[0m 3ms/step - accuracy: 0.9867 - loss: 0.0441 - val_accuracy: 0.9771 - val_loss: 0.0774\n",
            "Epoch 1/5\n",
            "\u001b[1m1875/1875\u001b[0m \u001b[32m━━━━━━━━━━━━━━━━━━━━\u001b[0m\u001b[37m\u001b[0m \u001b[1m5s\u001b[0m 3ms/step - accuracy: 0.7380 - loss: 1.0130 - val_accuracy: 0.9031 - val_loss: 0.3585\n",
            "Epoch 2/5\n",
            "\u001b[1m1875/1875\u001b[0m \u001b[32m━━━━━━━━━━━━━━━━━━━━\u001b[0m\u001b[37m\u001b[0m \u001b[1m6s\u001b[0m 3ms/step - accuracy: 0.9034 - loss: 0.3506 - val_accuracy: 0.9200 - val_loss: 0.2924\n",
            "Epoch 3/5\n",
            "\u001b[1m1875/1875\u001b[0m \u001b[32m━━━━━━━━━━━━━━━━━━━━\u001b[0m\u001b[37m\u001b[0m \u001b[1m5s\u001b[0m 2ms/step - accuracy: 0.9169 - loss: 0.2962 - val_accuracy: 0.9275 - val_loss: 0.2612\n",
            "Epoch 4/5\n",
            "\u001b[1m1875/1875\u001b[0m \u001b[32m━━━━━━━━━━━━━━━━━━━━\u001b[0m\u001b[37m\u001b[0m \u001b[1m5s\u001b[0m 2ms/step - accuracy: 0.9238 - loss: 0.2671 - val_accuracy: 0.9330 - val_loss: 0.2372\n",
            "Epoch 5/5\n",
            "\u001b[1m1875/1875\u001b[0m \u001b[32m━━━━━━━━━━━━━━━━━━━━\u001b[0m\u001b[37m\u001b[0m \u001b[1m7s\u001b[0m 4ms/step - accuracy: 0.9318 - loss: 0.2377 - val_accuracy: 0.9374 - val_loss: 0.2190\n"
          ]
        },
        {
          "output_type": "display_data",
          "data": {
            "text/plain": [
              "<Figure size 640x480 with 1 Axes>"
            ],
            "image/png": "[encoded data removed]"
          },
          "metadata": {}
        }
      ]
    },
    {
      "cell_type": "code",
      "source": [
        "#Train a Neural network and log to Tensorboard\n",
        "import tensorflow as tf\n",
        "from tensorflow.keras import layers, models\n",
        "import datetime\n",
        "\n",
        "# 1. Load the MNIST dataset\n",
        "mnist = tf.keras.datasets.mnist\n",
        "(x_train, y_train), (x_test, y_test) = mnist.load_data()\n",
        "x_train, x_test = x_train / 255.0, x_test / 255.0\n",
        "\n",
        "# 2. Define a simple model\n",
        "model = models.Sequential([\n",
        "    layers.Flatten(input_shape=(28, 28)),\n",
        "    layers.Dense(128, activation='relu'),\n",
        "    layers.Dense(10, activation='softmax')\n",
        "])\n",
        "\n",
        "# 3. Compile the model\n",
        "model.compile(optimizer='adam', loss='sparse_categorical_crossentropy', metrics=['accuracy'])\n",
        "\n",
        "# 4. Enable TensorBoard logging\n",
        "log_dir = \"logs/fit/\" + datetime.datetime.now().strftime(\"%Y%m%d-%H%M%S\")\n",
        "tensorboard_callback = tf.keras.callbacks.TensorBoard(log_dir=log_dir, histogram_freq=1)\n",
        "\n",
        "# 5. Train the model\n",
        "model.fit(x_train, y_train, epochs=5, validation_data=(x_test, y_test), callbacks=[tensorboard_callback])\n",
        "\n",
        "# 6. Launch TensorBoard (Run this command in terminal)\n",
        "# tensorboard --logdir logs/fit"
      ],
      "metadata": {
        "colab": {
          "base_uri": "https://localhost:8080/"
        },
        "id": "GLuTNf-P8wlE",
        "outputId": "6d0e863e-bd3f-4252-86c7-f45d4333b1d7"
      },
      "execution_count": 6,
      "outputs": [
        {
          "output_type": "stream",
          "name": "stdout",
          "text": [
            "Epoch 1/5\n",
            "\u001b[1m1875/1875\u001b[0m \u001b[32m━━━━━━━━━━━━━━━━━━━━\u001b[0m\u001b[37m\u001b[0m \u001b[1m10s\u001b[0m 5ms/step - accuracy: 0.8720 - loss: 0.4405 - val_accuracy: 0.9566 - val_loss: 0.1482\n",
            "Epoch 2/5\n",
            "\u001b[1m1875/1875\u001b[0m \u001b[32m━━━━━━━━━━━━━━━━━━━━\u001b[0m\u001b[37m\u001b[0m \u001b[1m8s\u001b[0m 4ms/step - accuracy: 0.9627 - loss: 0.1263 - val_accuracy: 0.9708 - val_loss: 0.0994\n",
            "Epoch 3/5\n",
            "\u001b[1m1875/1875\u001b[0m \u001b[32m━━━━━━━━━━━━━━━━━━━━\u001b[0m\u001b[37m\u001b[0m \u001b[1m7s\u001b[0m 4ms/step - accuracy: 0.9762 - loss: 0.0811 - val_accuracy: 0.9723 - val_loss: 0.0926\n",
            "Epoch 4/5\n",
            "\u001b[1m1875/1875\u001b[0m \u001b[32m━━━━━━━━━━━━━━━━━━━━\u001b[0m\u001b[37m\u001b[0m \u001b[1m8s\u001b[0m 4ms/step - accuracy: 0.9817 - loss: 0.0592 - val_accuracy: 0.9734 - val_loss: 0.0883\n",
            "Epoch 5/5\n",
            "\u001b[1m1875/1875\u001b[0m \u001b[32m━━━━━━━━━━━━━━━━━━━━\u001b[0m\u001b[37m\u001b[0m \u001b[1m10s\u001b[0m 4ms/step - accuracy: 0.9859 - loss: 0.0439 - val_accuracy: 0.9751 - val_loss: 0.0806\n"
          ]
        },
        {
          "output_type": "execute_result",
          "data": {
            "text/plain": [
              "<keras.src.callbacks.history.History at 0x7fb690487910>"
            ]
          },
          "metadata": {},
          "execution_count": 6
        }
      ]
    }
  ]
}