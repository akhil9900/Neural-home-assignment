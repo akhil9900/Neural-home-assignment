{
  "nbformat": 4,
  "nbformat_minor": 0,
  "metadata": {
    "colab": {
      "provenance": [],
      "authorship_tag": "ABX9TyPgYIGDs42ccb3Nc07p0J+2",
      "include_colab_link": true
    },
    "kernelspec": {
      "name": "python3",
      "display_name": "Python 3"
    },
    "language_info": {
      "name": "python"
    }
  },
  "cells": [
    {
      "cell_type": "markdown",
      "metadata": {
        "id": "view-in-github",
        "colab_type": "text"
      },
      "source": [
        "<a href=\"https://colab.research.google.com/github/akhil9900/Neural-home-assignment/blob/main/Home_assignment.ipynb\" target=\"_parent\"><img src=\"https://colab.research.google.com/assets/colab-badge.svg\" alt=\"Open In Colab\"/></a>"
      ]
    },
    {
      "cell_type": "code",
      "execution_count": 1,
      "metadata": {
        "colab": {
          "base_uri": "https://localhost:8080/"
        },
        "id": "frQcNOgY6GEn",
        "outputId": "c844e969-177a-4654-f0a6-0e3d2b207ce0"
      },
      "outputs": [
        {
          "output_type": "stream",
          "name": "stdout",
          "text": [
            "Original Tensor:\n",
            " [[-0.41265026  0.61565226 -1.4117347   1.2336942  -1.7147396   0.7868933 ]\n",
            " [ 0.211484   -0.30360088 -0.74310327 -0.17419045 -0.78158516 -0.6762304 ]\n",
            " [-0.22346322  0.2795035  -0.11544304  2.3529894  -0.8124218  -1.1854414 ]\n",
            " [-0.14136273  1.1291637   2.0777056  -0.35473165 -0.8221894   0.22259957]]\n",
            "\n",
            "Rank of the tensor: 2\n",
            "Shape of the tensor: [4 6]\n",
            "\n",
            "Reshaped Tensor (2, 3, 4):\n",
            " [[[-0.41265026  0.61565226 -1.4117347   1.2336942 ]\n",
            "  [-1.7147396   0.7868933   0.211484   -0.30360088]\n",
            "  [-0.74310327 -0.17419045 -0.78158516 -0.6762304 ]]\n",
            "\n",
            " [[-0.22346322  0.2795035  -0.11544304  2.3529894 ]\n",
            "  [-0.8124218  -1.1854414  -0.14136273  1.1291637 ]\n",
            "  [ 2.0777056  -0.35473165 -0.8221894   0.22259957]]]\n",
            "Transposed Tensor (3, 2, 4):\n",
            " [[[-0.41265026  0.61565226 -1.4117347   1.2336942 ]\n",
            "  [-0.22346322  0.2795035  -0.11544304  2.3529894 ]]\n",
            "\n",
            " [[-1.7147396   0.7868933   0.211484   -0.30360088]\n",
            "  [-0.8124218  -1.1854414  -0.14136273  1.1291637 ]]\n",
            "\n",
            " [[-0.74310327 -0.17419045 -0.78158516 -0.6762304 ]\n",
            "  [ 2.0777056  -0.35473165 -0.8221894   0.22259957]]]\n",
            "\n",
            "Small Tensor:\n",
            " [[1. 2. 3. 4.]]\n",
            "Broadcasted Tensor:\n",
            " [[[1. 2. 3. 4.]\n",
            "  [1. 2. 3. 4.]]\n",
            "\n",
            " [[1. 2. 3. 4.]\n",
            "  [1. 2. 3. 4.]]\n",
            "\n",
            " [[1. 2. 3. 4.]\n",
            "  [1. 2. 3. 4.]]]\n",
            "Result Tensor (after addition):\n",
            " [[[ 0.5873498   2.6156523   1.5882653   5.233694  ]\n",
            "  [ 0.77653676  2.2795036   2.884557    6.352989  ]]\n",
            "\n",
            " [[-0.71473956  2.7868934   3.211484    3.6963992 ]\n",
            "  [ 0.1875782   0.8145586   2.8586373   5.1291637 ]]\n",
            "\n",
            " [[ 0.25689673  1.8258096   2.2184148   3.3237696 ]\n",
            "  [ 3.0777056   1.6452683   2.1778107   4.2225995 ]]]\n",
            "\n"
          ]
        }
      ],
      "source": [
        "#Tensor Manipulations & reshaping\n",
        "\n",
        "import tensorflow as tf\n",
        "import numpy as np\n",
        "\n",
        "# 1. Create a random tensor of shape (4, 6)\n",
        "tensor = tf.random.normal(shape=(4, 6))\n",
        "print(\"Original Tensor:\\n\", tensor.numpy())\n",
        "print()\n",
        "\n",
        "# 2. Find its rank and shape\n",
        "rank = tf.rank(tensor)\n",
        "shape = tf.shape(tensor)\n",
        "print(\"Rank of the tensor:\", rank.numpy())\n",
        "print(\"Shape of the tensor:\", shape.numpy())\n",
        "print()\n",
        "\n",
        "# 3. Reshape it into (2, 3, 4) and transpose it to (3, 2, 4)\n",
        "reshaped_tensor = tf.reshape(tensor, (2, 3, 4))\n",
        "transposed_tensor = tf.transpose(reshaped_tensor, perm=[1, 0, 2])\n",
        "print(\"Reshaped Tensor (2, 3, 4):\\n\", reshaped_tensor.numpy())\n",
        "print(\"Transposed Tensor (3, 2, 4):\\n\", transposed_tensor.numpy())\n",
        "print()\n",
        "\n",
        "# 4. Broadcast a smaller tensor (1, 4) to match the larger tensor and add them\n",
        "small_tensor = tf.constant([[1.0, 2.0, 3.0, 4.0]])  # Shape (1, 4)\n",
        "broadcasted_tensor = tf.broadcast_to(small_tensor, transposed_tensor.shape)\n",
        "result_tensor = transposed_tensor + broadcasted_tensor\n",
        "print(\"Small Tensor:\\n\", small_tensor.numpy())\n",
        "print(\"Broadcasted Tensor:\\n\", broadcasted_tensor.numpy())\n",
        "print(\"Result Tensor (after addition):\\n\", result_tensor.numpy())\n",
        "print()\n",
        "\n"
      ]
    },
    {
      "cell_type": "code",
      "source": [
        "#Loss functions and Hyperparameter Tuning\n",
        "\n",
        "import tensorflow as tf\n",
        "import matplotlib.pyplot as plt\n",
        "\n",
        "# 1. Define true values (y_true) and model predictions (y_pred)\n",
        "y_true = tf.constant([1.0, 0.0, 1.0, 0.0])\n",
        "y_pred = tf.constant([0.9, 0.1, 0.8, 0.2])\n",
        "\n",
        "# 2. Compute Mean Squared Error (MSE) and Categorical Cross-Entropy (CCE) losses\n",
        "mse_loss = tf.keras.losses.MeanSquaredError()\n",
        "cce_loss = tf.keras.losses.BinaryCrossentropy()\n",
        "\n",
        "mse_value = mse_loss(y_true, y_pred)\n",
        "cce_value = cce_loss(y_true, y_pred)\n",
        "\n",
        "print(\"MSE Loss:\", mse_value.numpy())\n",
        "print(\"CCE Loss:\", cce_value.numpy())\n",
        "\n",
        "# 3. Modify predictions slightly and check how loss values change\n",
        "y_pred_modified = tf.constant([0.85, 0.15, 0.75, 0.25])\n",
        "mse_value_modified = mse_loss(y_true, y_pred_modified)\n",
        "cce_value_modified = cce_loss(y_true, y_pred_modified)\n",
        "\n",
        "print(\"Modified MSE Loss:\", mse_value_modified.numpy())\n",
        "print(\"Modified CCE Loss:\", cce_value_modified.numpy())\n",
        "\n",
        "# 4. Plot loss function values using Matplotlib\n",
        "losses = [mse_value.numpy(), cce_value.numpy(), mse_value_modified.numpy(), cce_value_modified.numpy()]\n",
        "labels = ['MSE', 'CCE', 'Modified MSE', 'Modified CCE']\n",
        "\n",
        "plt.bar(labels, losses, color=['blue', 'orange', 'green', 'red'])\n",
        "plt.title('Comparison of Loss Functions')\n",
        "plt.ylabel('Loss Value')\n",
        "plt.show()"
      ],
      "metadata": {
        "colab": {
          "base_uri": "https://localhost:8080/",
          "height": 526
        },
        "id": "jP4KKAP170dR",
        "outputId": "0715d7ab-c392-482a-b173-4c4855b68c1e"
      },
      "execution_count": 2,
      "outputs": [
        {
          "output_type": "stream",
          "name": "stdout",
          "text": [
            "MSE Loss: 0.025000002\n",
            "CCE Loss: 0.16425204\n",
            "Modified MSE Loss: 0.042499997\n",
            "Modified CCE Loss: 0.22510049\n"
          ]
        },
        {
          "output_type": "display_data",
          "data": {
            "text/plain": [
              "<Figure size 640x480 with 1 Axes>"
            ],
            "image/png": "[encoded data removed]"
          },
          "metadata": {}
        }
      ]
    }
  ]
}