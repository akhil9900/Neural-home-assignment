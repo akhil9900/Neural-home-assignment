{
  "nbformat": 4,
  "nbformat_minor": 0,
  "metadata": {
    "colab": {
      "provenance": [],
      "authorship_tag": "ABX9TyN/M/9rOysWbk8B+kWbrnCN",
      "include_colab_link": true
    },
    "kernelspec": {
      "name": "python3",
      "display_name": "Python 3"
    },
    "language_info": {
      "name": "python"
    }
  },
  "cells": [
    {
      "cell_type": "markdown",
      "metadata": {
        "id": "view-in-github",
        "colab_type": "text"
      },
      "source": [
        "<a href=\"https://colab.research.google.com/github/akhil9900/Neural-home-assignment/blob/main/Home_assignment.ipynb\" target=\"_parent\"><img src=\"https://colab.research.google.com/assets/colab-badge.svg\" alt=\"Open In Colab\"/></a>"
      ]
    },
    {
      "cell_type": "code",
      "execution_count": null,
      "metadata": {
        "id": "frQcNOgY6GEn"
      },
      "outputs": [],
      "source": [
        "#Tensor Manipulations & reshaping\n",
        "\n",
        "import tensorflow as tf\n",
        "import numpy as np\n",
        "\n",
        "# 1. Create a random tensor of shape (4, 6)\n",
        "tensor = tf.random.normal(shape=(4, 6))\n",
        "print(\"Original Tensor:\\n\", tensor.numpy())\n",
        "print()\n",
        "\n",
        "# 2. Find its rank and shape\n",
        "rank = tf.rank(tensor)\n",
        "shape = tf.shape(tensor)\n",
        "print(\"Rank of the tensor:\", rank.numpy())\n",
        "print(\"Shape of the tensor:\", shape.numpy())\n",
        "print()\n",
        "\n",
        "# 3. Reshape it into (2, 3, 4) and transpose it to (3, 2, 4)\n",
        "reshaped_tensor = tf.reshape(tensor, (2, 3, 4))\n",
        "transposed_tensor = tf.transpose(reshaped_tensor, perm=[1, 0, 2])\n",
        "print(\"Reshaped Tensor (2, 3, 4):\\n\", reshaped_tensor.numpy())\n",
        "print(\"Transposed Tensor (3, 2, 4):\\n\", transposed_tensor.numpy())\n",
        "print()\n",
        "\n",
        "# 4. Broadcast a smaller tensor (1, 4) to match the larger tensor and add them\n",
        "small_tensor = tf.constant([[1.0, 2.0, 3.0, 4.0]])  # Shape (1, 4)\n",
        "broadcasted_tensor = tf.broadcast_to(small_tensor, transposed_tensor.shape)\n",
        "result_tensor = transposed_tensor + broadcasted_tensor\n",
        "print(\"Small Tensor:\\n\", small_tensor.numpy())\n",
        "print(\"Broadcasted Tensor:\\n\", broadcasted_tensor.numpy())\n",
        "print(\"Result Tensor (after addition):\\n\", result_tensor.numpy())\n",
        "print()\n",
        "\n"
      ]
    }
  ]
}